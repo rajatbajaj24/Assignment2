{
  "nbformat": 4,
  "nbformat_minor": 0,
  "metadata": {
    "colab": {
      "provenance": []
    },
    "kernelspec": {
      "name": "python3",
      "display_name": "Python 3"
    },
    "language_info": {
      "name": "python"
    }
  },
  "cells": [
    {
      "cell_type": "markdown",
      "source": [
        "# Assignment 2\n",
        "\n",
        "**Theoritical Questions**"
      ],
      "metadata": {
        "id": "LQ8sJE4BAlZD"
      }
    },
    {
      "cell_type": "markdown",
      "source": [
        "Q.1 What are data structures, and why are they important?\n",
        "- Data structures are ways of organizing and storing data in a computer so it can be used efficiently. They are important because they improve performance, enable efficient data access and manipulation, and are essential for writing optimized algorithms and scalable software. Examples include arrays, linked lists, stacks, queues, trees, graphs, and hash tables.\n",
        "\n",
        "Q.2  Explain the difference between mutable and immutable data types with examples.\n",
        "- Difference Between Mutable and Immutable Data Types ;\n",
        "\n",
        " In programming, particularly in languages like Python, mutable and immutable refer to whether or not an object’s value can be changed after it is created.\n",
        "\n",
        "- Mutable Data Types\n",
        "\n",
        " Mutable data types allow modification of their content after creation. This means you can change, add, or remove elements without changing the identity (memory address) of the object.\n",
        "\n",
        " Example:\n",
        "\n",
        " List: my_list = [1, 2, 3] → my_list[0] = 10 changes the first element.\n",
        "\n",
        " Immutable Data Types :\n",
        "\n",
        " Immutable data types do not allow modification of their content once created. Any operation that appears to change the object actually creates a new object.\n",
        "\n",
        " Example:\n",
        "\n",
        " Integer: x = 5 → x = x + 1 creates a new integer object.\n",
        "\n",
        "\n",
        " Q.3 What are the main differences between lists and tuples in Python?\n",
        "\n",
        " - Lists and tuples are both sequence data types in Python, but they differ mainly in mutability. Lists are mutable, meaning their contents can be changed after creation, while tuples are immutable and cannot be modified once defined. Lists use square brackets [ ], whereas tuples use parentheses ( ). Tuples are generally faster and use less memory, making them suitable for fixed data.\n",
        "\n",
        "\n",
        "Q.4 Describe how dictionaries store data?\n",
        "\n",
        "- Dictionaries in Python store data as key-value pairs within a hash table structure. Each key is hashed using a hash function to determine an index in memory where the corresponding value is stored. This allows for fast access, insertion, and deletion of data. Keys must be unique and immutable, while values can be of any data type. This structure enables efficient lookups based on keys.\n",
        "\n",
        "Q.5 Why might you use a set instead of a list in Python?\n",
        "\n",
        "- A set is used when you need to store unique, unordered elements.\n",
        "It provides faster membership testing than a list.\n",
        "Sets automatically remove duplicates and use less memory for large data.\n",
        "They support efficient set operations like union, intersection, and difference.\n",
        "\n",
        "Q.6 What is a string in Python, and how is it different from a list?\n",
        "\n",
        "- A string in Python is an immutable sequence of characters used to represent text.\n",
        "It is defined using quotes, like \"hello\" or 'world'.\n",
        "Unlike lists, which can store elements of any data type and are mutable, strings can only store characters and cannot be changed after creation.\n",
        "Also, strings have special methods for text processing, such as .upper() or .split().\n",
        "\n",
        "Q.7  How do tuples ensure data integrity in Python?\n",
        "- Tuples ensure data integrity in Python by being **immutable**, meaning their contents cannot be changed once created. This immutability prevents accidental or intentional modification of data, making tuples ideal for storing fixed, reliable information. Because they cannot be altered, tuples provide a stable and consistent data structure, which helps maintain data integrity throughout a program.\n",
        "\n",
        "Q.8 What is a hash table, and how does it relate to dictionaries in Python?\n",
        "- A **hash table** is a data structure that stores data in key-value pairs and uses a **hash function** to compute an index (or hash code) for each key. This index determines where the corresponding value is stored in memory, enabling fast data retrieval.\n",
        "\n",
        " In Python, **dictionaries** are implemented using hash tables. When you add a key-value pair to a dictionary, Python hashes the key to quickly locate where the value should be stored or retrieved. This makes dictionary operations like lookup, insertion, and deletion very efficient on average.\n",
        "\n",
        "Q.9 Can lists contain different data types in Python?\n",
        "- Yes, lists in Python can contain **different data types** within the same list. For example, a list can hold integers, strings, floats, and even other lists or objects all together, like `[1, \"hello\", 3.14, [2, 3]]`. This flexibility makes lists very versatile for storing mixed data.\n",
        "\n",
        "\n",
        "\n",
        "\n",
        "Q.10  Explain why strings are immutable in Python?\n",
        "- Strings are immutable in Python to ensure **data integrity** and **security**, making them safe to use as keys in dictionaries or elements in sets. Immutability also allows for **efficient memory management** through string interning and enables Python to optimize performance by reusing string objects without unexpected changes. Additionally, immutable strings help avoid bugs caused by accidental modification of text data.\n",
        "\n",
        "Q.11 What advantages do dictionaries offer over lists for certain tasks?\n",
        "- Dictionaries offer several advantages over lists for certain tasks:\n",
        "\n",
        "1. **Fast lookups:** Dictionaries provide quick access to values using unique keys, while lists require searching through elements.\n",
        "2. **Key-value pairing:** Dictionaries store data as key-value pairs, making it easy to associate and retrieve related information.\n",
        "3. **No ordering requirement:** Dictionaries don’t rely on order, which is useful when the position of data isn’t important.\n",
        "4. **Efficient data organization:** Ideal for cases where you need to map or index data by unique identifiers, unlike lists that use numeric indexes.\n",
        "\n",
        "Q.12  Describe a scenario where using a tuple would be preferable over a list?\n",
        "- A tuple is preferable over a list when you need to store **fixed, unchangeable data** that should not be modified throughout the program. For example, representing the coordinates of a point in 2D space as `(x, y)` is ideal with a tuple because the position values shouldn’t change. Tuples also provide faster performance and can be used as dictionary keys, unlike lists.\n",
        "\n",
        "Q.13 How do sets handle duplicate values in Python?\n",
        "- Sets in Python **automatically eliminate duplicate values**. When you add elements to a set, only unique items are stored—any duplicates are ignored. This ensures that a set contains **no repeated elements**, making it useful for storing collections of distinct items.\n",
        "\n",
        "Q.14 How does the “in” keyword work differently for lists and dictionaries?\n",
        "- The `in` keyword checks for membership but works differently in lists and dictionaries:\n",
        "\n",
        "* **In lists:** `in` checks if a **value** exists anywhere in the list by scanning through all elements.\n",
        "* **In dictionaries:** `in` checks if a **key** exists in the dictionary, not the values. This lookup is faster because dictionaries use a hash table.\n",
        "\n",
        " So, `x in list` looks for values, while `x in dict` looks for keys.\n",
        "\n",
        "Q.15 Can you modify the elements of a tuple? Explain why or why not.\n",
        "- No, you cannot modify the elements of a tuple because tuples are **immutable** in Python. Once a tuple is created, its contents cannot be changed, added to, or removed. This immutability ensures data integrity and allows tuples to be used as reliable keys in dictionaries or elements in sets.\n",
        "\n",
        "Q.16 What is a nested dictionary, and give an example of its use case?\n",
        "- A **nested dictionary** is a dictionary in which the values are themselves dictionaries. This structure allows representation of hierarchical or complex data by organizing related information in multiple levels of key-value pairs. Nested dictionaries are useful for modeling real-world data that naturally fits into categories and subcategories, such as storing details of objects with multiple attributes or grouping data by various criteria. This enables efficient storage, retrieval, and management of structured data within a single container.\n",
        "\n",
        "Q.17  Describe the time complexity of accessing elements in a dictionary.\n",
        "- Accessing elements in a dictionary has an average time complexity of **O(1)**, meaning it takes constant time regardless of the dictionary’s size. This efficiency is due to the underlying **hash table** implementation, which uses a hash function to directly compute the location of a key-value pair. However, in rare cases of many hash collisions, the time complexity can degrade to **O(n)**, where *n* is the number of items, but such cases are uncommon with a good hash function and proper resizing.\n",
        "\n",
        "\n",
        "Q.18 P In what situations are lists preferred over dictionaries?\n",
        "- Lists are preferred over dictionaries when:\n",
        "\n",
        "1. **Order matters:** Lists maintain the order of elements, which is important for sequences or when processing items in a specific order.\n",
        "2. **Index-based access:** You need to access elements by their position (index) rather than by a key.\n",
        "3. **Simple collections:** When storing a simple collection of items without the need for key-value pairing.\n",
        "4. **Small datasets:** For small amounts of data where quick lookups aren’t critical, lists can be simpler and more intuitive.\n",
        "\n",
        "Q.19 Why are dictionaries considered unordered, and how does that affect data retrieval?\n",
        "- Dictionaries are considered unordered because they store key-value pairs based on the hash values of the keys rather than their insertion sequence. This means that the internal arrangement of elements does not follow a predictable order. As a result, when iterating over a dictionary, the order of elements may appear arbitrary and is not guaranteed. However, this unordered nature does not affect data retrieval since dictionaries use hash functions to access values directly by their keys, enabling fast and efficient lookup operations regardless of element order.\n",
        "\n",
        "Q.20 Explain the difference between a list and a dictionary in terms of data retrieval.\n",
        "- The main difference between a list and a dictionary in terms of data retrieval lies in **how elements are accessed**:\n",
        "\n",
        "* **List:** Elements are accessed by their **index position** (an integer), so retrieving data requires knowing the element’s position. Searching for a value by content in a list takes **O(n)** time because it may require checking each element sequentially.\n",
        "\n",
        "* **Dictionary:** Elements are accessed by **keys**, which can be of various immutable types. Dictionaries use a **hash table** to directly locate values based on keys, allowing for average-case **O(1)** (constant time) retrieval, making lookups much faster than in lists.\n",
        "\n"
      ],
      "metadata": {
        "id": "d_32IbDMA4DF"
      }
    },
    {
      "cell_type": "markdown",
      "source": [
        "#Practical Questions"
      ],
      "metadata": {
        "id": "6X_8GALdNi59"
      }
    },
    {
      "cell_type": "markdown",
      "source": [
        "Q.1 Write a code to create a string with your name and print it."
      ],
      "metadata": {
        "id": "GTwpklWKOS6M"
      }
    },
    {
      "cell_type": "code",
      "source": [
        "name = \"Rajat Bajaj\"\n",
        "print(name)"
      ],
      "metadata": {
        "colab": {
          "base_uri": "https://localhost:8080/"
        },
        "id": "-vohM3mIOceD",
        "outputId": "0a7bf563-7a8b-4eec-c330-12c0f8be41a1"
      },
      "execution_count": 34,
      "outputs": [
        {
          "output_type": "stream",
          "name": "stdout",
          "text": [
            "Rajat Bajaj\n"
          ]
        }
      ]
    },
    {
      "cell_type": "markdown",
      "source": [
        "Q.2 Write a code to find the length of the string \"Hello World\"."
      ],
      "metadata": {
        "id": "dbYYTLcGOpqn"
      }
    },
    {
      "cell_type": "code",
      "source": [
        "text = \"Hello World\"\n",
        "length = len(text)\n",
        "print(length)"
      ],
      "metadata": {
        "colab": {
          "base_uri": "https://localhost:8080/"
        },
        "id": "5bGRjqwzOvTT",
        "outputId": "46075ba9-9d75-42f4-be69-f2fa06ca548f"
      },
      "execution_count": 2,
      "outputs": [
        {
          "output_type": "stream",
          "name": "stdout",
          "text": [
            "11\n"
          ]
        }
      ]
    },
    {
      "cell_type": "markdown",
      "source": [
        "Q.3 Write a code to slice the first 3 characters from the string \"Python Programming\"."
      ],
      "metadata": {
        "id": "uUxeZMODO1KY"
      }
    },
    {
      "cell_type": "code",
      "source": [
        "text = \"Python Programming\"\n",
        "slice_text = text[:3]\n",
        "print(slice_text)"
      ],
      "metadata": {
        "colab": {
          "base_uri": "https://localhost:8080/"
        },
        "id": "pXLz6rbXO9vF",
        "outputId": "91bcd6d7-fdf5-42ba-c897-593102f452a5"
      },
      "execution_count": 3,
      "outputs": [
        {
          "output_type": "stream",
          "name": "stdout",
          "text": [
            "Pyt\n"
          ]
        }
      ]
    },
    {
      "cell_type": "markdown",
      "source": [
        "Q.4 Write a code to convert the string \"hello\" to uppercase."
      ],
      "metadata": {
        "id": "w7Z0rZN6PE1w"
      }
    },
    {
      "cell_type": "code",
      "source": [
        "text = \"hello\"\n",
        "uppercase_text = text.upper()\n",
        "print(uppercase_text)"
      ],
      "metadata": {
        "colab": {
          "base_uri": "https://localhost:8080/"
        },
        "id": "GZ2RDzBHPOCh",
        "outputId": "b29e48d2-6d4b-4990-b172-326b5825c5a7"
      },
      "execution_count": 4,
      "outputs": [
        {
          "output_type": "stream",
          "name": "stdout",
          "text": [
            "HELLO\n"
          ]
        }
      ]
    },
    {
      "cell_type": "markdown",
      "source": [
        "Q.5 Write a code to replace the word \"apple\" with \"orange\" in the string \"I like apple\"."
      ],
      "metadata": {
        "id": "qvMlS7eEPawJ"
      }
    },
    {
      "cell_type": "code",
      "source": [
        "text = \"I like apple\"\n",
        "new_text = text.replace(\"apple\", \"orange\")\n",
        "print(new_text)"
      ],
      "metadata": {
        "colab": {
          "base_uri": "https://localhost:8080/"
        },
        "id": "X9gUNf2-PkeE",
        "outputId": "0b529b94-928b-4838-b40d-3ab7060142a0"
      },
      "execution_count": 5,
      "outputs": [
        {
          "output_type": "stream",
          "name": "stdout",
          "text": [
            "I like orange\n"
          ]
        }
      ]
    },
    {
      "cell_type": "markdown",
      "source": [
        "Q.6 Write a code to create a list with numbers 1 to 5 and print it."
      ],
      "metadata": {
        "id": "5jYIljb9Prsw"
      }
    },
    {
      "cell_type": "code",
      "source": [
        "numbers = [1, 2, 3, 4, 5]\n",
        "print(numbers)"
      ],
      "metadata": {
        "colab": {
          "base_uri": "https://localhost:8080/"
        },
        "id": "-urCTFQJP15w",
        "outputId": "8873f9f8-6c8e-42ac-c7a7-154de7faa838"
      },
      "execution_count": 6,
      "outputs": [
        {
          "output_type": "stream",
          "name": "stdout",
          "text": [
            "[1, 2, 3, 4, 5]\n"
          ]
        }
      ]
    },
    {
      "cell_type": "markdown",
      "source": [
        "Q.7 Write a code to append the number 10 to the list [1, 2, 3, 4]"
      ],
      "metadata": {
        "id": "U11Hjv5jP7g7"
      }
    },
    {
      "cell_type": "code",
      "source": [
        "numbers = [1, 2, 3, 4]\n",
        "numbers.append(10)\n",
        "print(numbers)"
      ],
      "metadata": {
        "colab": {
          "base_uri": "https://localhost:8080/"
        },
        "id": "AoRQUIVgQBQN",
        "outputId": "9b84ea8f-80d8-451a-f521-cef264d826bd"
      },
      "execution_count": 7,
      "outputs": [
        {
          "output_type": "stream",
          "name": "stdout",
          "text": [
            "[1, 2, 3, 4, 10]\n"
          ]
        }
      ]
    },
    {
      "cell_type": "markdown",
      "source": [
        "Q.8 Write a code to remove the number 3 from the list [1, 2, 3, 4, 5]"
      ],
      "metadata": {
        "id": "bx29yNbfQIQI"
      }
    },
    {
      "cell_type": "code",
      "source": [
        "numbers = [1, 2, 3, 4, 5]\n",
        "numbers.remove(3)\n",
        "print(numbers)"
      ],
      "metadata": {
        "colab": {
          "base_uri": "https://localhost:8080/"
        },
        "id": "_TGwtdcqQOxR",
        "outputId": "70240a9a-b353-4dfa-e194-a5947fc3b6fc"
      },
      "execution_count": 8,
      "outputs": [
        {
          "output_type": "stream",
          "name": "stdout",
          "text": [
            "[1, 2, 4, 5]\n"
          ]
        }
      ]
    },
    {
      "cell_type": "markdown",
      "source": [
        "Q.9 Write a code to access the second element in the list ['a', 'b', 'c', 'd']."
      ],
      "metadata": {
        "id": "uqXM1z4QQS5W"
      }
    },
    {
      "cell_type": "code",
      "source": [
        "letters = ['a', 'b', 'c', 'd']\n",
        "second_element = letters[1]\n",
        "print(second_element)"
      ],
      "metadata": {
        "colab": {
          "base_uri": "https://localhost:8080/"
        },
        "id": "eDWENKSeQhl0",
        "outputId": "395b5bdc-7bbb-4590-c2b7-2ca681e03656"
      },
      "execution_count": 9,
      "outputs": [
        {
          "output_type": "stream",
          "name": "stdout",
          "text": [
            "b\n"
          ]
        }
      ]
    },
    {
      "cell_type": "markdown",
      "source": [
        "Q.10  Write a code to reverse the list [10, 20, 30, 40, 50]."
      ],
      "metadata": {
        "id": "a-f1acBGQnuR"
      }
    },
    {
      "cell_type": "code",
      "source": [
        "numbers = [10, 20, 30, 40, 50]\n",
        "numbers.reverse()\n",
        "print(numbers)"
      ],
      "metadata": {
        "colab": {
          "base_uri": "https://localhost:8080/"
        },
        "id": "bUiULXWqQzeA",
        "outputId": "27f00d5d-ae3d-480f-dc20-25f46a418040"
      },
      "execution_count": 10,
      "outputs": [
        {
          "output_type": "stream",
          "name": "stdout",
          "text": [
            "[50, 40, 30, 20, 10]\n"
          ]
        }
      ]
    },
    {
      "cell_type": "markdown",
      "source": [
        "Q.11  Write a code to create a tuple with the elements 100, 200, 300 and print it."
      ],
      "metadata": {
        "id": "RJt77RIxQ42V"
      }
    },
    {
      "cell_type": "code",
      "source": [
        "my_tuple = (100, 200, 300)\n",
        "print(my_tuple)"
      ],
      "metadata": {
        "colab": {
          "base_uri": "https://localhost:8080/"
        },
        "id": "5_jb9iodRCee",
        "outputId": "854ce9d8-01a2-49a6-b7d4-92d5568487be"
      },
      "execution_count": 11,
      "outputs": [
        {
          "output_type": "stream",
          "name": "stdout",
          "text": [
            "(100, 200, 300)\n"
          ]
        }
      ]
    },
    {
      "cell_type": "markdown",
      "source": [
        "Q.12 Write a code to access the second-to-last element of the tuple ('red', 'green', 'blue', 'yellow')."
      ],
      "metadata": {
        "id": "7fvJbECZRHHE"
      }
    },
    {
      "cell_type": "code",
      "source": [
        "colors = ('red', 'green', 'blue', 'yellow')\n",
        "second_to_last = colors[-2]\n",
        "print(second_to_last)"
      ],
      "metadata": {
        "colab": {
          "base_uri": "https://localhost:8080/"
        },
        "id": "1sb_s5JGROjk",
        "outputId": "9a7a13e5-20ac-4773-eb3e-c831b552dda7"
      },
      "execution_count": 12,
      "outputs": [
        {
          "output_type": "stream",
          "name": "stdout",
          "text": [
            "blue\n"
          ]
        }
      ]
    },
    {
      "cell_type": "markdown",
      "source": [
        "Q.13 Write a code to find the minimum number in the tuple (10, 20, 5, 15)."
      ],
      "metadata": {
        "id": "rEirDMzBRYoI"
      }
    },
    {
      "cell_type": "code",
      "source": [
        "numbers = (10, 20, 5, 15)\n",
        "minimum = min(numbers)\n",
        "print(minimum)"
      ],
      "metadata": {
        "colab": {
          "base_uri": "https://localhost:8080/"
        },
        "id": "9-GZYNgcRk3o",
        "outputId": "86c1bf9a-2e0d-47da-8e02-d51cea255951"
      },
      "execution_count": 13,
      "outputs": [
        {
          "output_type": "stream",
          "name": "stdout",
          "text": [
            "5\n"
          ]
        }
      ]
    },
    {
      "cell_type": "markdown",
      "source": [
        "Q.14  Write a code to find the index of the element \"cat\" in the tuple ('dog', 'cat', 'rabbit')."
      ],
      "metadata": {
        "id": "089LQ0wpRqj_"
      }
    },
    {
      "cell_type": "code",
      "source": [
        "animals = ('dog', 'cat', 'rabbit')\n",
        "index_cat = animals.index(\"cat\")\n",
        "print(index_cat)"
      ],
      "metadata": {
        "colab": {
          "base_uri": "https://localhost:8080/"
        },
        "id": "eAEGR6zsRxae",
        "outputId": "24f30844-5fd0-4a23-d131-c3b1a58342ee"
      },
      "execution_count": 14,
      "outputs": [
        {
          "output_type": "stream",
          "name": "stdout",
          "text": [
            "1\n"
          ]
        }
      ]
    },
    {
      "cell_type": "markdown",
      "source": [
        "Q.15 Write a code to create a tuple containing three different fruits and check if \"kiwi\" is in it."
      ],
      "metadata": {
        "id": "VP6VurzqR3oA"
      }
    },
    {
      "cell_type": "code",
      "source": [
        "fruits = (\"apple\", \"banana\", \"orange\")\n",
        "is_kiwi_present = \"kiwi\" in fruits\n",
        "print(is_kiwi_present)"
      ],
      "metadata": {
        "colab": {
          "base_uri": "https://localhost:8080/"
        },
        "id": "nRK2KHOQS32s",
        "outputId": "2019f5ae-8453-4373-e296-8a7bbd8701b1"
      },
      "execution_count": 15,
      "outputs": [
        {
          "output_type": "stream",
          "name": "stdout",
          "text": [
            "False\n"
          ]
        }
      ]
    },
    {
      "cell_type": "markdown",
      "source": [
        "Q.16 Write a code to create a set with the elements 'a', 'b', 'c' and print it."
      ],
      "metadata": {
        "id": "tRJXXzaTS78k"
      }
    },
    {
      "cell_type": "code",
      "source": [
        "my_set = {'a', 'b', 'c'}\n",
        "print(my_set)"
      ],
      "metadata": {
        "colab": {
          "base_uri": "https://localhost:8080/"
        },
        "id": "phPCM2evTCk2",
        "outputId": "8a696afc-466c-4de8-a0f6-13ff4a9389d4"
      },
      "execution_count": 16,
      "outputs": [
        {
          "output_type": "stream",
          "name": "stdout",
          "text": [
            "{'c', 'a', 'b'}\n"
          ]
        }
      ]
    },
    {
      "cell_type": "markdown",
      "source": [
        "Q.17 Write a code to clear all elements from the set {1, 2, 3, 4, 5}."
      ],
      "metadata": {
        "id": "yR11LcrFTZj2"
      }
    },
    {
      "cell_type": "code",
      "source": [
        "my_set = {1, 2, 3, 4, 5}\n",
        "my_set.clear()\n",
        "print(my_set)"
      ],
      "metadata": {
        "colab": {
          "base_uri": "https://localhost:8080/"
        },
        "id": "F1fcUDmjTe-H",
        "outputId": "1bd19261-cc74-48d3-da26-6b328fa03ee8"
      },
      "execution_count": 17,
      "outputs": [
        {
          "output_type": "stream",
          "name": "stdout",
          "text": [
            "set()\n"
          ]
        }
      ]
    },
    {
      "cell_type": "markdown",
      "source": [
        "Q.18  Write a code to remove the element 4 from the set {1, 2, 3, 4}."
      ],
      "metadata": {
        "id": "V_le2P-oT38B"
      }
    },
    {
      "cell_type": "code",
      "source": [
        "my_set = {1, 2, 3, 4}\n",
        "my_set.remove(4)\n",
        "print(my_set)"
      ],
      "metadata": {
        "colab": {
          "base_uri": "https://localhost:8080/"
        },
        "id": "NaRs-PWzT9Vp",
        "outputId": "1cdbbe5c-6b2c-49ef-de4c-38734d384c83"
      },
      "execution_count": 18,
      "outputs": [
        {
          "output_type": "stream",
          "name": "stdout",
          "text": [
            "{1, 2, 3}\n"
          ]
        }
      ]
    },
    {
      "cell_type": "markdown",
      "source": [
        "Q.19 Write a code to find the union of two sets {1, 2, 3} and {3, 4, 5}."
      ],
      "metadata": {
        "id": "mn8zReNmUCTW"
      }
    },
    {
      "cell_type": "code",
      "source": [
        "set1 = {1, 2, 3}\n",
        "set2 = {3, 4, 5}\n",
        "union_set = set1.union(set2)\n",
        "print(union_set)"
      ],
      "metadata": {
        "colab": {
          "base_uri": "https://localhost:8080/"
        },
        "id": "yynd1UEJUP-W",
        "outputId": "3ab42c48-be20-42bd-bdf8-922f08ce0921"
      },
      "execution_count": 19,
      "outputs": [
        {
          "output_type": "stream",
          "name": "stdout",
          "text": [
            "{1, 2, 3, 4, 5}\n"
          ]
        }
      ]
    },
    {
      "cell_type": "markdown",
      "source": [
        "Q.20 Write a code to find the intersection of two sets {1, 2, 3} and {2, 3, 4}."
      ],
      "metadata": {
        "id": "-AXCNPn5UVKc"
      }
    },
    {
      "cell_type": "code",
      "source": [
        "set1 = {1, 2, 3}\n",
        "set2 = {2, 3, 4}\n",
        "intersection_set = set1.intersection(set2)\n",
        "print(intersection_set)"
      ],
      "metadata": {
        "colab": {
          "base_uri": "https://localhost:8080/"
        },
        "id": "o0lA_AJWUc72",
        "outputId": "36c5ba7a-9309-4ecb-f765-b9a02c7bae44"
      },
      "execution_count": 20,
      "outputs": [
        {
          "output_type": "stream",
          "name": "stdout",
          "text": [
            "{2, 3}\n"
          ]
        }
      ]
    },
    {
      "cell_type": "markdown",
      "source": [
        "Q.21 Write a code to create a dictionary with the keys \"name\", \"age\", and \"city\", and print it."
      ],
      "metadata": {
        "id": "SR8RU3zVUh4r"
      }
    },
    {
      "cell_type": "code",
      "source": [
        "person = {\n",
        "    \"name\": \"Rajat\",\n",
        "    \"age\": 29,\n",
        "    \"city\": \"Gurgaon\"\n",
        "}\n",
        "print(person)\n"
      ],
      "metadata": {
        "colab": {
          "base_uri": "https://localhost:8080/"
        },
        "id": "0Hv1LgCPUpOH",
        "outputId": "a7300c6d-15d9-48ee-aceb-e06b32b25590"
      },
      "execution_count": 33,
      "outputs": [
        {
          "output_type": "stream",
          "name": "stdout",
          "text": [
            "{'name': 'Rajat', 'age': 29, 'city': 'Gurgaon'}\n"
          ]
        }
      ]
    },
    {
      "cell_type": "markdown",
      "source": [
        "Q.22 Write a code to add a new key-value pair \"country\": \"USA\" to the dictionary {'name': 'John', 'age': 25}."
      ],
      "metadata": {
        "id": "K4AX9ROPU0zq"
      }
    },
    {
      "cell_type": "code",
      "source": [
        "person = {'name': 'John', 'age': 25}\n",
        "person[\"country\"] = \"USA\"\n",
        "print(person)"
      ],
      "metadata": {
        "colab": {
          "base_uri": "https://localhost:8080/"
        },
        "id": "WRYJY1YiU9xi",
        "outputId": "85da6622-23cd-4ac3-b76a-bb4c00f15411"
      },
      "execution_count": 23,
      "outputs": [
        {
          "output_type": "stream",
          "name": "stdout",
          "text": [
            "{'name': 'John', 'age': 25, 'country': 'USA'}\n"
          ]
        }
      ]
    },
    {
      "cell_type": "markdown",
      "source": [
        "Q.23 Write a code to access the value associated with the key \"name\" in the dictionary {'name': 'Alice', 'age': 30}."
      ],
      "metadata": {
        "id": "858MhXNvVCtG"
      }
    },
    {
      "cell_type": "code",
      "source": [
        "person = {'name': 'Alice', 'age': 30}\n",
        "name_value = person[\"name\"]\n",
        "print(name_value)"
      ],
      "metadata": {
        "colab": {
          "base_uri": "https://localhost:8080/"
        },
        "id": "PQ7V-oR0VP6m",
        "outputId": "9b76cc89-c4ae-45e8-f35d-3f48669f2378"
      },
      "execution_count": 24,
      "outputs": [
        {
          "output_type": "stream",
          "name": "stdout",
          "text": [
            "Alice\n"
          ]
        }
      ]
    },
    {
      "cell_type": "markdown",
      "source": [
        "Q.24 Write a code to remove the key \"age\" from the dictionary {'name': 'Bob', 'age': 22, 'city': 'New York'}."
      ],
      "metadata": {
        "id": "4wl8ITEDVXXT"
      }
    },
    {
      "cell_type": "code",
      "source": [
        "person = {'name': 'Bob', 'age': 22, 'city': 'New York'}\n",
        "person.pop(\"age\")\n",
        "print(person)"
      ],
      "metadata": {
        "colab": {
          "base_uri": "https://localhost:8080/"
        },
        "id": "CKSm0NEAWTRc",
        "outputId": "50cde4e2-b480-4e54-e4e7-7ac5eaa8be5a"
      },
      "execution_count": 25,
      "outputs": [
        {
          "output_type": "stream",
          "name": "stdout",
          "text": [
            "{'name': 'Bob', 'city': 'New York'}\n"
          ]
        }
      ]
    },
    {
      "cell_type": "markdown",
      "source": [
        "Q.25 Write a code to check if the key \"city\" exists in the dictionary {'name': 'Alice', 'city': 'Paris'}."
      ],
      "metadata": {
        "id": "ojOBiZJ2WalY"
      }
    },
    {
      "cell_type": "code",
      "source": [
        "person = {'name': 'Alice', 'city': 'Paris'}\n",
        "has_city = \"city\" in person\n",
        "print(has_city)"
      ],
      "metadata": {
        "colab": {
          "base_uri": "https://localhost:8080/"
        },
        "id": "nuDKNyYGWm6a",
        "outputId": "f8748618-65c1-4bba-cacd-1229cb3b845e"
      },
      "execution_count": 26,
      "outputs": [
        {
          "output_type": "stream",
          "name": "stdout",
          "text": [
            "True\n"
          ]
        }
      ]
    },
    {
      "cell_type": "markdown",
      "source": [
        "Q.26 Write a code to create a list, a tuple, and a dictionary, and print them all."
      ],
      "metadata": {
        "id": "X6psAe_UWs13"
      }
    },
    {
      "cell_type": "code",
      "source": [
        "my_list = [1, 2, 3]\n",
        "my_tuple = (4, 5, 6)\n",
        "my_dict = {\"a\": 7, \"b\": 8}\n",
        "\n",
        "print(my_list)\n",
        "print(my_tuple)\n",
        "print(my_dict)"
      ],
      "metadata": {
        "colab": {
          "base_uri": "https://localhost:8080/"
        },
        "id": "QV6eHkwbW2h7",
        "outputId": "3b72a896-ee4c-4f95-f561-74e26a727dbb"
      },
      "execution_count": 27,
      "outputs": [
        {
          "output_type": "stream",
          "name": "stdout",
          "text": [
            "[1, 2, 3]\n",
            "(4, 5, 6)\n",
            "{'a': 7, 'b': 8}\n"
          ]
        }
      ]
    },
    {
      "cell_type": "markdown",
      "source": [
        "Q.27 Write a code to create a list of 5 random numbers between 1 and 100, sort it in ascending order, and print the\n",
        "result.(replaced)."
      ],
      "metadata": {
        "id": "e2Su4v2eW9_U"
      }
    },
    {
      "cell_type": "code",
      "source": [
        "import random\n",
        "\n",
        "random_numbers = [random.randint(1, 100) for _ in range(5)]\n",
        "random_numbers.sort()\n",
        "print(random_numbers)"
      ],
      "metadata": {
        "colab": {
          "base_uri": "https://localhost:8080/"
        },
        "id": "7Q8Y2nnCXIZW",
        "outputId": "2ba17f9b-7902-4549-ba45-dea4d1273b81"
      },
      "execution_count": 28,
      "outputs": [
        {
          "output_type": "stream",
          "name": "stdout",
          "text": [
            "[22, 23, 49, 88, 98]\n"
          ]
        }
      ]
    },
    {
      "cell_type": "markdown",
      "source": [
        "Q.28 Write a code to create a list with strings and print the element at the third index."
      ],
      "metadata": {
        "id": "jKppLd0YXNDf"
      }
    },
    {
      "cell_type": "code",
      "source": [
        "words = [\"apple\", \"banana\", \"cherry\", \"date\", \"fig\"]\n",
        "print(words[3])"
      ],
      "metadata": {
        "colab": {
          "base_uri": "https://localhost:8080/"
        },
        "id": "ovQYmKmjXSNs",
        "outputId": "6da66d32-e99a-45d6-97ce-fbaa43c4931e"
      },
      "execution_count": 29,
      "outputs": [
        {
          "output_type": "stream",
          "name": "stdout",
          "text": [
            "date\n"
          ]
        }
      ]
    },
    {
      "cell_type": "markdown",
      "source": [
        "Q.29 Write a code to combine two dictionaries into one and print the result."
      ],
      "metadata": {
        "id": "M_ZyZGJyXY6W"
      }
    },
    {
      "cell_type": "code",
      "source": [
        "dict1 = {\"a\": 1, \"b\": 2}\n",
        "dict2 = {\"c\": 3, \"d\": 4}\n",
        "\n",
        "combined_dict = {**dict1, **dict2}\n",
        "print(combined_dict)"
      ],
      "metadata": {
        "colab": {
          "base_uri": "https://localhost:8080/"
        },
        "id": "KizHfOqpXjV1",
        "outputId": "2b0ed73f-a923-4c1a-8427-3bff8da3ff95"
      },
      "execution_count": 30,
      "outputs": [
        {
          "output_type": "stream",
          "name": "stdout",
          "text": [
            "{'a': 1, 'b': 2, 'c': 3, 'd': 4}\n"
          ]
        }
      ]
    },
    {
      "cell_type": "markdown",
      "source": [
        "Q.30 Write a code to convert a list of strings into a set."
      ],
      "metadata": {
        "id": "MY_mFp3wXnee"
      }
    },
    {
      "cell_type": "code",
      "source": [
        "string_list = [\"apple\", \"banana\", \"apple\", \"cherry\"]\n",
        "string_set = set(string_list)\n",
        "print(string_set)"
      ],
      "metadata": {
        "colab": {
          "base_uri": "https://localhost:8080/"
        },
        "id": "IjiB5LJPXvps",
        "outputId": "e893ca89-b194-4aff-ca8d-5aceef74dd71"
      },
      "execution_count": 31,
      "outputs": [
        {
          "output_type": "stream",
          "name": "stdout",
          "text": [
            "{'cherry', 'banana', 'apple'}\n"
          ]
        }
      ]
    }
  ]
}